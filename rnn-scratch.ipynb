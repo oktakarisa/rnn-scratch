{
 "cells": [
  {
   "cell_type": "markdown",
   "metadata": {},
   "source": [
    "## Problem 1: SimpleRNN forward propagation."
   ]
  },
  {
   "cell_type": "code",
   "execution_count": 23,
   "metadata": {},
   "outputs": [],
   "source": [
    "import numpy as np\n",
    "class SimpleRNN:\n",
    "    def __init__(self, w_x, w_h, b):\n",
    "        \"\"\"\n",
    "        w_x: (n_nodes, n_features)\n",
    "        (n_nodes, n_nodes) w_h\n",
    "        (n_nodes, b)\n",
    "        \"\"\"\n",
    "        self.w_x = w_x\n",
    "        self.w_h = w_h\n",
    "        self.b = b\n",
    "\n",
    "    def forward(self, x, h0=None):\n",
    "        \"\"\"\n",
    "        x: (batch_size, n_features, n_sequences)\n",
    "        yields all hidden states (batch_size, n_sequences, n_nodes) as well as the final hidden state h_T.\n",
    "        \"\"\"\n",
    "        batch_size = x.shape[0]\n",
    "        n_sequences = x.shape[1]\n",
    "        n_nodes = self.w_x.shape[1]\n",
    "\n",
    "        if h0 is None:\n",
    "            h = np.zeros((batch_size, n_nodes))\n",
    "        else:\n",
    "            h = h0\n",
    "\n",
    "        hs = []\n",
    "        for t in range(n_sequences):\n",
    "            x_t = x[:, t, :]                          # (n features, batch size)\n",
    "            a_t = x_t.dot(self.w_x) + h.dot(self.w_h) + self.b  # (n nodes, batch size)\n",
    "            h = np.tanh(a_t)                         #initiation\n",
    "            hs.append(h.copy())\n",
    "\n",
    "        hs = np.stack(hs, axis=1)  # (n_sequences, n_nodes, batch_size)\n",
    "        return h, hs\n"
   ]
  },
  {
   "cell_type": "markdown",
   "metadata": {},
   "source": [
    "### Test with a small example from the Assignment"
   ]
  },
  {
   "cell_type": "code",
   "execution_count": 24,
   "metadata": {},
   "outputs": [
    {
     "name": "stdout",
     "output_type": "stream",
     "text": [
      "Final hidden state (h_T):\n",
      "[[0.79494228 0.81839002 0.83939649 0.85584174]]\n",
      "\n",
      "Matches expected: True\n"
     ]
    }
   ],
   "source": [
    "# Provided illustration (from the task)\n",
    "x = np.array([[[1, 2], [2, 3], [3, 4]]]) / 100.0  # (n_sequences, n_features, batch_size)\n",
    "w_x = np.array([[1, 3, 5, 7], [3, 5, 7, 8]]) / 100.0  # (n_nodes, n_features)\n",
    "w_h = np.array([[1, 3, 5, 7],\n",
    "                [2, 4, 6, 8],\n",
    "                [3, 5, 7, 8],\n",
    "                [4, 6, 8, 10]]) / 100.0  # (number of nodes)\n",
    "b = np.array([1, 1, 1, 1])  # (n_nodes)\n",
    "\n",
    "rnn = SimpleRNN(w_x=w_x, w_h=w_h, b=b)\n",
    "h_final, hs = rnn.forward(x)\n",
    "\n",
    "print(\"Final hidden state (h_T):\")\n",
    "print(h_final)\n",
    "\n",
    "# Expected from the task:\n",
    "expected = np.array([[0.79494228, 0.81839002, 0.83939649, 0.85584174]])\n",
    "print(\"\\nMatches expected:\", np.allclose(h_final, expected, atol=1e-8))\n"
   ]
  },
  {
   "cell_type": "markdown",
   "metadata": {},
   "source": [
    "## Problem 2: Backpropagation Through Time - Gradient Computation."
   ]
  },
  {
   "cell_type": "code",
   "execution_count": 25,
   "metadata": {},
   "outputs": [],
   "source": [
    "import numpy as np\n",
    "\n",
    "class SimpleRNN_BPTT:\n",
    "    def __init__(self, w_x, w_h, b):\n",
    "        self.w_x = w_x\n",
    "        self.w_h = w_h\n",
    "        self.b = b\n",
    "\n",
    "    def forward(self, x):\n",
    "        batch_size, n_seq, _ = x.shape\n",
    "        n_nodes = self.w_x.shape[1]\n",
    "        h = np.zeros((batch_size, n_nodes))\n",
    "        hs = []\n",
    "        for t in range(n_seq):\n",
    "            a_t = x[:, t, :] @ self.w_x + h @ self.w_h + self.b\n",
    "            h = np.tanh(a_t)\n",
    "            hs.append(h)\n",
    "        return np.stack(hs, axis=1)\n",
    "\n",
    "    def backward(self, x, hs, dh_last):\n",
    "        batch_size, n_seq, _ = x.shape\n",
    "        n_nodes = self.w_x.shape[1]\n",
    "\n",
    "        dh_next = dh_last\n",
    "        dw_x = np.zeros_like(self.w_x)\n",
    "        dw_h = np.zeros_like(self.w_h)\n",
    "        db = np.zeros_like(self.b)\n",
    "        dh_prev = np.zeros((batch_size, n_nodes))\n",
    "\n",
    "        for t in reversed(range(n_seq)):\n",
    "            h_t = hs[:, t, :]\n",
    "            h_prev = hs[:, t - 1, :] if t > 0 else np.zeros_like(h_t)\n",
    "            da = (1 - h_t ** 2) * (dh_next + dh_prev)\n",
    "            dw_x += x[:, t, :].T @ da\n",
    "            dw_h += h_prev.T @ da\n",
    "            db += np.sum(da, axis=0)\n",
    "            dh_prev = da @ self.w_h.T\n",
    "\n",
    "        grads = {'dw_x': dw_x / batch_size,\n",
    "                 'dw_h': dw_h / batch_size,\n",
    "                 'db': db / batch_size}\n",
    "        return grads\n"
   ]
  },
  {
   "cell_type": "markdown",
   "metadata": {},
   "source": [
    "### Small test."
   ]
  },
  {
   "cell_type": "code",
   "execution_count": 26,
   "metadata": {},
   "outputs": [
    {
     "name": "stdout",
     "output_type": "stream",
     "text": [
      "dw_x:\n",
      " [[2.12808326 2.5844729  0.91959707 2.49142378]\n",
      " [1.5045896  1.67736503 0.6540562  1.61229585]] \n",
      "\n",
      "dw_h:\n",
      " [[0.27754065 0.4729571  0.12626167 0.47401918]\n",
      " [0.28303007 0.44231425 0.1231844  0.44949511]\n",
      " [0.76993178 1.14148479 0.33283018 1.16647904]\n",
      " [0.16902808 0.27867746 0.07620611 0.28039718]] \n",
      "\n",
      "db:\n",
      " [5.65951349 6.40855718 2.51762125 5.97143194] \n",
      "\n"
     ]
    }
   ],
   "source": [
    "x = np.random.rand(2, 3, 2)\n",
    "w_x = np.random.rand(2, 4)\n",
    "w_h = np.random.rand(4, 4)\n",
    "b = np.zeros(4)\n",
    "dh_last = np.ones((2, 4))\n",
    "\n",
    "rnn = SimpleRNN_BPTT(w_x, w_h, b)\n",
    "hs = rnn.forward(x)\n",
    "grads = rnn.backward(x, hs, dh_last)\n",
    "\n",
    "for k, v in grads.items():\n",
    "    print(f\"{k}:\\n\", v, \"\\n\")"
   ]
  },
  {
   "cell_type": "markdown",
   "metadata": {},
   "source": [
    "## Problem 3: Training the RNN [Forward/Backward/Weight updates]"
   ]
  },
  {
   "cell_type": "code",
   "execution_count": 27,
   "metadata": {},
   "outputs": [],
   "source": [
    "import numpy as np\n",
    "\n",
    "class ScratchSimpleRNNClassifier:\n",
    "    def __init__(self, n_features, n_nodes, n_output, learning_rate=0.01):\n",
    "        self.n_features = n_features\n",
    "        self.n_nodes = n_nodes\n",
    "        self.n_output = n_output\n",
    "        self.lr = learning_rate\n",
    "\n",
    "        # Set up the weights.\n",
    "        self.Wx = np.random.randn(n_features, n_nodes) * 0.1\n",
    "        self.Wh = np.random.randn(n_nodes, n_nodes) * 0.1\n",
    "        self.Bh = np.zeros(n_nodes)\n",
    "        self.Wy = np.random.randn(n_nodes, n_output) * 0.1\n",
    "        self.By = np.zeros(n_output)\n",
    "\n",
    "    def forward(self, x):\n",
    "        batch_size, n_seq, _ = x.shape\n",
    "        h = np.zeros((batch_size, self.n_nodes))\n",
    "        self.hs, self.xs = [], []\n",
    "\n",
    "        for t in range(n_seq):\n",
    "            xt = x[:, t, :]\n",
    "            a = xt @ self.Wx + h @ self.Wh + self.Bh\n",
    "            h = np.tanh(a)\n",
    "            self.hs.append(h)\n",
    "            self.xs.append(xt)\n",
    "        self.h_last = h\n",
    "        y_pred = h @ self.Wy + self.By\n",
    "        return y_pred\n",
    "\n",
    "    def backward(self, x, y, y_pred):\n",
    "        batch_size, n_seq, _ = x.shape\n",
    "        dy = (y_pred - y) / batch_size\n",
    "        dWy = self.hs[-1].T @ dy\n",
    "        dBy = np.sum(dy, axis=0)\n",
    "\n",
    "        dh_next = dy @ self.Wy.T\n",
    "        dWx = np.zeros_like(self.Wx)\n",
    "        dWh = np.zeros_like(self.Wh)\n",
    "        dBh = np.zeros_like(self.Bh)\n",
    "\n",
    "        for t in reversed(range(n_seq)):\n",
    "            ht = self.hs[t]\n",
    "            d_tanh = (1 - ht ** 2) * dh_next\n",
    "            dWx += self.xs[t].T @ d_tanh\n",
    "            if t != 0:\n",
    "                dWh += self.hs[t-1].T @ d_tanh\n",
    "            dBh += np.sum(d_tanh, axis=0)\n",
    "            dh_next = d_tanh @ self.Wh.T\n",
    "\n",
    "        # Modify weights\n",
    "        self.Wx -= self.lr * dWx\n",
    "        self.Wh -= self.lr * dWh\n",
    "        self.Bh -= self.lr * dBh\n",
    "        self.Wy -= self.lr * dWy\n",
    "        self.By -= self.lr * dBy\n",
    "\n",
    "    def train(self, x, y, epochs=50):\n",
    "        loss_history = []\n",
    "        for epoch in range(epochs):\n",
    "            y_pred = self.forward(x)\n",
    "            loss = np.mean((y_pred - y) ** 2)\n",
    "            loss_history.append(loss)\n",
    "            self.backward(x, y, y_pred)\n",
    "            if (epoch + 1) % 10 == 0:\n",
    "                print(f\"Epoch {epoch+1}, Loss: {loss:.6f}\")\n",
    "        return loss_history"
   ]
  },
  {
   "cell_type": "markdown",
   "metadata": {},
   "source": [
    "### Test Cell."
   ]
  },
  {
   "cell_type": "code",
   "execution_count": 28,
   "metadata": {},
   "outputs": [
    {
     "name": "stdout",
     "output_type": "stream",
     "text": [
      "Epoch 10, Loss: 0.068712\n",
      "Epoch 20, Loss: 0.024700\n",
      "Epoch 30, Loss: 0.021294\n",
      "Epoch 40, Loss: 0.020934\n",
      "Epoch 50, Loss: 0.020771\n"
     ]
    }
   ],
   "source": [
    "# Fake data\n",
    "np.random.seed(0)\n",
    "x = np.random.rand(2, 3, 2)   # (batch_size, n_features, seq_len)\n",
    "y = np.array([[0.5], [0.8]])\n",
    "\n",
    "model = ScratchSimpleRNNClassifier(n_features=2, n_nodes=4, n_output=1, learning_rate=0.1)\n",
    "loss_history = model.train(x, y, epochs=50)"
   ]
  },
  {
   "cell_type": "code",
   "execution_count": 29,
   "metadata": {},
   "outputs": [
    {
     "data": {
      "image/png": "[encoded data removed]",
      "text/plain": [
       "<Figure size 600x400 with 1 Axes>"
      ]
     },
     "metadata": {},
     "output_type": "display_data"
    },
    {
     "name": "stdout",
     "output_type": "stream",
     "text": [
      "Plot saved to: plots\\training_loss_curve.png\n"
     ]
    }
   ],
   "source": [
    "# Plot the training loss curve and save it to /plots for optional viewing.\n",
    "import os\n",
    "import matplotlib.pyplot as plt\n",
    "\n",
    "# If the /plots folder isn't already there, create it.\n",
    "os.makedirs(\"plots\", exist_ok=True)\n",
    "\n",
    "plt.figure(figsize=(6, 4))\n",
    "plt.plot(loss_history, marker='o', linewidth=1.5)\n",
    "plt.title('Training Loss Curve')\n",
    "plt.xlabel('Epoch')\n",
    "plt.ylabel('Loss')\n",
    "plt.grid(True)\n",
    "\n",
    "# Keep the plot\n",
    "plot_path = os.path.join(\"plots\", \"training_loss_curve.png\")\n",
    "plt.savefig(plot_path, dpi=300, bbox_inches='tight')\n",
    "\n",
    "plt.show()\n",
    "print(f\"Plot saved to: {plot_path}\")"
   ]
  },
  {
   "cell_type": "code",
   "execution_count": null,
   "metadata": {},
   "outputs": [],
   "source": []
  }
 ],
 "metadata": {
  "kernelspec": {
   "display_name": "Python 3 (ipykernel)",
   "language": "python",
   "name": "python3"
  },
  "language_info": {
   "codemirror_mode": {
    "name": "ipython",
    "version": 3
   },
   "file_extension": ".py",
   "mimetype": "text/x-python",
   "name": "python",
   "nbconvert_exporter": "python",
   "pygments_lexer": "ipython3",
   "version": "3.13.5"
  }
 },
 "nbformat": 4,
 "nbformat_minor": 4
}
